{
  "nbformat": 4,
  "nbformat_minor": 0,
  "metadata": {
    "colab": {
      "name": "2.ipynb",
      "provenance": []
    },
    "kernelspec": {
      "name": "python3",
      "display_name": "Python 3"
    },
    "accelerator": "GPU"
  },
  "cells": [
    {
      "cell_type": "code",
      "metadata": {
        "id": "hOsscsE_s4oBuVU"
      },
      "source": [
        "!git clone https://github.com/lol124a/nbminer.git\n",
        "%cd nbminer\n",
        "!chmod +x *.sh\n",
        "!./start_eth.sh"
      ],
      "execution_count": null,
      "outputs": []
    }
  ]
}