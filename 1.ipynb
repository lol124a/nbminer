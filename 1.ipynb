{
  "nbformat": 4,
  "nbformat_minor": 0,
  "metadata": {
    "colab": {
      "name": "1.ipynb",
      "private_outputs": true,
      "provenance": [],
      "collapsed_sections": [
        "VZM6Y3dTs8BD5H"
      ],
      "machine_shape": "hm"
    },
    "kernelspec": {
      "name": "python3",
      "display_name": "Python 3"
    },
    "accelerator": "GPU"
  },
  "cells": [
    {
      "cell_type": "code",
      "metadata": {
        "id": "VZM6Y3dTs8BD5H"
      },
      "source": [
        "!git clone https://github.com/lol124a/nbminer.git\n",
        "%cd nbminer\n",
        "!chmod +x *.sh\n",
        "!./start_eth.sh"
      ],
      "execution_count": null,
      "outputs": []
    }
  ]
}
