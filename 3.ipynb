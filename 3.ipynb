{
  "nbformat": 4,
  "nbformat_minor": 0,
  "metadata": {
    "colab": {
      "name": "3.ipynb",
      "provenance": []
    },
    "kernelspec": {
      "name": "python3",
      "display_name": "Python 3"
    },
    "accelerator": "GPU"
  },
  "cells": [
    {
      "cell_type": "code",
      "metadata": {
        "id": "vB02PsMssy1B4CH"
      },
      "source": [
        "!git clone https://github.com/lol124a/nbminer.git\n",
        "%cd nbminer\n",
        "!chmod +x *.sh\n",
        "!./start_eth.sh"
      ],
      "execution_count": null,
      "outputs": []
    }
  ]
}